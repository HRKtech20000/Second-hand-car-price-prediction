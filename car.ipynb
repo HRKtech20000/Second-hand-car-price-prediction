import pandas as pd
import numpy as np

(After adding dataset, read dataset)
car=pd.read_csv('quikr_car - quikr_car.csv')

car.head()     { It will display headings of the dataset }

car.shape      { it will provide quantity of rows and columns }

car.info()

car['year'].unique()

car['Price'].unique()

car['kms_driven'].unique()

car['fuel_type'].unique()

{ now onwards, data cleaning begins }
car=car[car['year'].str.isnumeric()]

car['year']=car['year'].astype(int)

car.info()

car["Price"]  { remove ask from price, dataset }

car=car[car['Price']!='Ask For Price']

car['Price']

car['Price']=car['Price'].str.replace(',','').astype(int)

car.info()

car['kms_driven']

car['kms_driven']=car['kms_driven'].str.split(' ').str.get(0).str.replace(',','')

car=car[car['kms_driven'].str.isnumeric()]

car.info()

car['kms_driven']=car['kms_driven'].astype(int)

car.info()

car[car['fuel_type'].isna()]

car=car[~car['fuel_type'].isna()]

car['name']

car['name']=car['name'].str.split(' ').str.slice(0,3).str.join(' ')

car

car=car.reset_index(drop=True)

car.info()

car.describe()

car[car['Price']>6e6]  { removing price above 60Lakh as it can be outlier }

car=car[car['Price']<6e6].reset_index(drop=True)

car

{ data cleaned, storing clean data }
car.to_csv('Cleaned_Car.csv')

{creating model}
x=car.drop(columns="Price")
y=car['Price']

from sklearn.model_selection import train_test_split
x_train, x_test, y_train, y_test=train_test_split(x,y, test_size=0.2)

from sklearn.linear_model import LinearRegression
from sklearn.metrics import r2_score
from sklearn.preprocessing import OneHotEncoder
from sklearn.compose import make_column_transformer
from sklearn.pipeline import make_pipeline

ohe=OneHotEncoder()
ohe.fit(x[['name','company','fuel_type']])

ohe.categories_

column_trans = make_column_transformer((OneHotEncoder(categories=ohe.categories_),['name','company','fuel_type']),
                                       remainder='passthrough')

lr=LinearRegression()

pipe=make_pipeline(column_trans,lr)

pipe.fit(x_train,y_train)

y_pred=pipe.predict(x_test)

r2_score(y_test,y_pred)

scores=[]
for i in range(1000):
    x_train,x_test,y_train,y_test=train_test_split(x,y,test_size=0.2,random_state=i)
    lr=LinearRegression()
    pipe=make_pipeline(column_trans,lr)
    pipe.fit(x_train,y_train)
    y_pred=pipe.predict(x_test)
    scores.append(r2_score(y_test,y_pred))

np.argmax(scores)

scores[np.argmax(scores)]        {output is 84% accurate only, improving accuracy then}

x_train,x_test,y_train,y_test=train_test_split(x,y,test_size=0.2,random_state=np.argmax(scores))
lr=LinearRegression()
pipe=make_pipeline(column_trans,lr)
pipe.fit(x_train,y_train)
y_pred=pipe.predict(x_test)
r2_score(y_test,y_pred)

import pickle

pickle.dump(pipe,open('LinearRegressionModel.pkl','wb'))

{ project completed }
{ for output, run following command }

pipe.predict(pd.DataFrame([['Ford Figo','Ford',2012,41000,'Diesel']], columns=['name','company','year','kms_driven','fuel_type']))
